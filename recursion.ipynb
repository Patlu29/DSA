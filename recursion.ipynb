{
 "cells": [
  {
   "cell_type": "markdown",
   "metadata": {},
   "source": [
    "# Recursion - function calls iteself called recursion"
   ]
  },
  {
   "cell_type": "markdown",
   "metadata": {},
   "source": [
    "fibonacci sequence"
   ]
  },
  {
   "cell_type": "code",
   "execution_count": 25,
   "metadata": {},
   "outputs": [],
   "source": [
    "def recur(n):\n",
    "    if n == 0:\n",
    "        return 0\n",
    "    elif n == 1:\n",
    "        return 1\n",
    "    a = recur(n - 1) + recur(n - 2)\n",
    "    return a"
   ]
  },
  {
   "cell_type": "code",
   "execution_count": 26,
   "metadata": {},
   "outputs": [
    {
     "name": "stdout",
     "output_type": "stream",
     "text": [
      "The 4th number of fibonacci sequence is: 3\n"
     ]
    }
   ],
   "source": [
    "b = int(input(\"Enter a number of Fibonacci sequence: \"))\n",
    "print(f\"The {b}th number of fibonacci sequence is: {recur(b)}\")"
   ]
  },
  {
   "cell_type": "code",
   "execution_count": 13,
   "metadata": {},
   "outputs": [
    {
     "name": "stdout",
     "output_type": "stream",
     "text": [
      "[0, 1, 1, 2, 3, 5, 8, 13, 21, 34, 55, 89, 144, 233, 377, 610]\n"
     ]
    }
   ],
   "source": [
    "def fibonacci_series(n):\n",
    "    series = []\n",
    "    a, b = 0, 1\n",
    "    for _ in range(n):\n",
    "        series.append(a)\n",
    "        a, b = b, a + b\n",
    "    return series\n",
    "\n",
    "n = 16  # Number of terms\n",
    "print(fibonacci_series(n))\n"
   ]
  },
  {
   "cell_type": "markdown",
   "metadata": {},
   "source": [
    "# linked list in recursion "
   ]
  },
  {
   "cell_type": "code",
   "execution_count": 3,
   "metadata": {},
   "outputs": [
    {
     "name": "stdout",
     "output_type": "stream",
     "text": [
      "9\n"
     ]
    }
   ],
   "source": [
    "# linked list in recursion\n",
    "\n",
    "# single liked list\n",
    "class Singlynode:\n",
    "\n",
    "  def __init__(self, val,  next=None):\n",
    "    self.val = val\n",
    "    self.next = next\n",
    "\n",
    "  def __str__(self):\n",
    "    return str(self.val)\n",
    "# creating a nodes\n",
    "head = Singlynode(1)\n",
    "a = Singlynode(4)\n",
    "b = Singlynode(6)\n",
    "c = Singlynode(9)\n",
    "\n",
    "# joining a nodes\n",
    "head.next = a\n",
    "a.next = b\n",
    "b.next = c\n",
    "\n",
    "# print the head node\n",
    "print(head.next.next.next)"
   ]
  },
  {
   "cell_type": "code",
   "execution_count": 46,
   "metadata": {},
   "outputs": [
    {
     "name": "stdout",
     "output_type": "stream",
     "text": [
      "9\n",
      "6\n",
      "4\n",
      "1\n"
     ]
    }
   ],
   "source": [
    "# recursion in linked list\n",
    "# time complexity: O(n)\n",
    "# space complexity: O(n)\n",
    "def reverse(node):\n",
    "    if not node:\n",
    "        return # --> if node is none it returns a none value\n",
    "    \n",
    "    reverse(node.next) # --> it will call the reverse function with the next node\n",
    "    print(node)\n",
    "\n",
    "reverse(head)"
   ]
  },
  {
   "cell_type": "code",
   "execution_count": null,
   "metadata": {},
   "outputs": [],
   "source": []
  }
 ],
 "metadata": {
  "kernelspec": {
   "display_name": "Python 3",
   "language": "python",
   "name": "python3"
  },
  "language_info": {
   "codemirror_mode": {
    "name": "ipython",
    "version": 3
   },
   "file_extension": ".py",
   "mimetype": "text/x-python",
   "name": "python",
   "nbconvert_exporter": "python",
   "pygments_lexer": "ipython3",
   "version": "undefined.undefined.undefined"
  }
 },
 "nbformat": 4,
 "nbformat_minor": 2
}
