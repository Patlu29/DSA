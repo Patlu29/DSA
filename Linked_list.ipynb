{
  "nbformat": 4,
  "nbformat_minor": 0,
  "metadata": {
    "colab": {
      "provenance": []
    },
    "kernelspec": {
      "name": "python3",
      "display_name": "Python 3"
    },
    "language_info": {
      "name": "python"
    }
  },
  "cells": [
    {
      "cell_type": "markdown",
      "source": [
        "#  2 types:\n",
        "    singly linked list\n",
        "    doubly linked list"
      ],
      "metadata": {
        "id": "gC6CHjKG2kdA"
      }
    },
    {
      "cell_type": "markdown",
      "source": [
        "# singly linked list"
      ],
      "metadata": {
        "id": "gfAFxJco2vjc"
      }
    },
    {
      "cell_type": "code",
      "execution_count": null,
      "metadata": {
        "id": "ePpgYJpt2gH3"
      },
      "outputs": [],
      "source": [
        "class Singlynode:\n",
        "\n",
        "  def __init__(self, val,  next=None):\n",
        "    self.val = val\n",
        "    self.next = next\n",
        "\n",
        "  def __str__(self):\n",
        "    return str(self.val)"
      ]
    },
    {
      "cell_type": "code",
      "source": [
        "# creating a nodes\n",
        "head = Singlynode(1)\n",
        "a = Singlynode(4)\n",
        "b = Singlynode(6)\n",
        "c = Singlynode(9)\n",
        "\n",
        "# joining a nodes\n",
        "head.next = a\n",
        "a.next = b\n",
        "b.next = c\n",
        "\n",
        "# print the head node\n",
        "print(head)"
      ],
      "metadata": {
        "colab": {
          "base_uri": "https://localhost:8080/"
        },
        "id": "_v8uRb0v3isz",
        "outputId": "498bd7ec-ffea-4383-f3e9-2fadd5934d2f"
      },
      "execution_count": null,
      "outputs": [
        {
          "output_type": "stream",
          "name": "stdout",
          "text": [
            "1\n"
          ]
        }
      ]
    },
    {
      "cell_type": "code",
      "source": [
        "# Traverse the list -- O(n)\n",
        "curr = head\n",
        "\n",
        "while curr:\n",
        "  print(curr)\n",
        "  curr = curr.next"
      ],
      "metadata": {
        "colab": {
          "base_uri": "https://localhost:8080/"
        },
        "id": "b5zKdEYl4WRV",
        "outputId": "004f0618-5489-40a2-ddd3-ba74db45b945"
      },
      "execution_count": null,
      "outputs": [
        {
          "output_type": "stream",
          "name": "stdout",
          "text": [
            "1\n",
            "4\n",
            "6\n",
            "9\n"
          ]
        }
      ]
    },
    {
      "cell_type": "code",
      "source": [
        "# Displaying a LInked list\n",
        "def display(head):\n",
        "  curr = head\n",
        "  elements = []\n",
        "  while curr:\n",
        "    elements.append(str(curr.val))\n",
        "    curr = curr.next\n",
        "  print(\" -> \".join(elements))\n",
        "\n",
        "display(head)"
      ],
      "metadata": {
        "colab": {
          "base_uri": "https://localhost:8080/"
        },
        "id": "pFxo9gWw4pey",
        "outputId": "95ce46b0-d28a-4e72-99b5-b43343d09988"
      },
      "execution_count": null,
      "outputs": [
        {
          "output_type": "stream",
          "name": "stdout",
          "text": [
            "1 -> 4 -> 6 -> 9\n"
          ]
        }
      ]
    },
    {
      "cell_type": "code",
      "source": [
        "# search for a node -- O(n)\n",
        "def search (head,val):\n",
        "  curr = head\n",
        "  while curr:\n",
        "    if val == curr.val:\n",
        "      return True\n",
        "    curr = curr.next\n",
        "  return False\n",
        "\n",
        "search(head, 7)"
      ],
      "metadata": {
        "colab": {
          "base_uri": "https://localhost:8080/"
        },
        "id": "ZLyf_N2K5ZN9",
        "outputId": "6308ff48-b2b3-40d8-e84a-9a4dfd0ade6e"
      },
      "execution_count": null,
      "outputs": [
        {
          "output_type": "execute_result",
          "data": {
            "text/plain": [
              "False"
            ]
          },
          "metadata": {},
          "execution_count": 16
        }
      ]
    },
    {
      "cell_type": "markdown",
      "source": [
        "# Doubly linked list"
      ],
      "metadata": {
        "id": "DvyEaVbN6sst"
      }
    },
    {
      "cell_type": "code",
      "source": [
        "class DoublyNode:\n",
        "\n",
        "  def __init__(self,val, next=None, prev=None):\n",
        "    self.val = val\n",
        "    self.next = next\n",
        "    self.prev = prev\n",
        "\n",
        "  def __str__(self):\n",
        "    return str(self.val)"
      ],
      "metadata": {
        "id": "B-GL927L6TXw"
      },
      "execution_count": null,
      "outputs": []
    },
    {
      "cell_type": "code",
      "source": [
        "head = tail = DoublyNode(1)\n",
        "print(tail)\n",
        "print(head)"
      ],
      "metadata": {
        "colab": {
          "base_uri": "https://localhost:8080/"
        },
        "id": "F3PVFsbN7sTZ",
        "outputId": "857f2863-745c-4a7d-a9b7-6dc32e357281"
      },
      "execution_count": null,
      "outputs": [
        {
          "output_type": "stream",
          "name": "stdout",
          "text": [
            "1\n",
            "1\n"
          ]
        }
      ]
    },
    {
      "cell_type": "code",
      "source": [
        "# Display --O(n)\n",
        "def diaplay(head):\n",
        "  urr = head\n",
        "  elements = []\n",
        "  while curr:\n",
        "    elements.append(str(curr.val))\n",
        "    curr == curr.next\n",
        "  print(\" <-> \".join(elements))\n",
        "\n",
        "display(head)"
      ],
      "metadata": {
        "colab": {
          "base_uri": "https://localhost:8080/"
        },
        "id": "EyFUEPN171_y",
        "outputId": "e03dfa1f-e53a-4f63-9e68-def22e5679c3"
      },
      "execution_count": null,
      "outputs": [
        {
          "output_type": "stream",
          "name": "stdout",
          "text": [
            "1\n"
          ]
        }
      ]
    },
    {
      "cell_type": "code",
      "source": [
        "# insert a node at begining O(1)\n",
        "def insert_begining(head, tail, val):\n",
        "  new_node = DoublyNode(val, next=head)\n",
        "  head.prev = new_node\n",
        "  return new_node, tail\n",
        "\n",
        "head, tail = insert_begining(head, tail, 5)\n",
        "display(head)"
      ],
      "metadata": {
        "colab": {
          "base_uri": "https://localhost:8080/"
        },
        "id": "6QWGWfVL8bsu",
        "outputId": "30220dfa-2742-4ffb-dbfc-a7cc35c708ea"
      },
      "execution_count": null,
      "outputs": [
        {
          "output_type": "stream",
          "name": "stdout",
          "text": [
            "5 -> 1\n"
          ]
        }
      ]
    },
    {
      "cell_type": "code",
      "source": [
        "# insert at the end\n",
        "def insert_end(head, tail, val):\n",
        "  new_node = DoublyNode(val, prev=tail)\n",
        "  tail.next = new_node\n",
        "  return head, new_node\n",
        "\n",
        "head, tail = insert_end(head, tail, 6)\n",
        "display(head)"
      ],
      "metadata": {
        "colab": {
          "base_uri": "https://localhost:8080/"
        },
        "id": "02pq6TA79kaK",
        "outputId": "b92673a9-c682-4079-aafe-91982bf72b02"
      },
      "execution_count": null,
      "outputs": [
        {
          "output_type": "stream",
          "name": "stdout",
          "text": [
            "5 -> 1 -> 6\n"
          ]
        }
      ]
    },
    {
      "cell_type": "code",
      "source": [],
      "metadata": {
        "id": "3z9pzLlP-Th5"
      },
      "execution_count": null,
      "outputs": []
    }
  ]
}