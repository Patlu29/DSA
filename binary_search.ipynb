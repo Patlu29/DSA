{
 "cells": [
  {
   "cell_type": "markdown",
   "metadata": {},
   "source": [
    "# binary search"
   ]
  },
  {
   "cell_type": "code",
   "execution_count": 1,
   "metadata": {},
   "outputs": [
    {
     "name": "stdout",
     "output_type": "stream",
     "text": [
      "True\n"
     ]
    }
   ],
   "source": [
    "# Normal binary naive search O(n):\n",
    "\n",
    "a = [-3, -2, 1, 4, 5, 6, 8]\n",
    "\n",
    "if 4 in a:\n",
    "    print(True)"
   ]
  },
  {
   "cell_type": "markdown",
   "metadata": {},
   "source": [
    "# i) Traditional binary search"
   ]
  },
  {
   "cell_type": "code",
   "execution_count": 9,
   "metadata": {},
   "outputs": [
    {
     "name": "stdout",
     "output_type": "stream",
     "text": [
      "Got it the number is 2\n"
     ]
    }
   ],
   "source": [
    "# time --> O(log n)\n",
    "# space --> O(1)\n",
    "def binary(A, T):\n",
    "    N = len(A)\n",
    "    L = 0\n",
    "    R = N-1\n",
    "    \n",
    "    while L <= R:\n",
    "        M = L + ((R - L) // 2)\n",
    "        if A[M] == T:\n",
    "            return f\"Got it the number is {A[M]}\"\n",
    "        elif T < A[M]:\n",
    "            R = M - 1\n",
    "        else:\n",
    "            L = M + 1\n",
    "    return f\"Number {T} not in array\"\n",
    "\n",
    "A = [i for i in range(13)]\n",
    "print(binary(A, 2))\n"
   ]
  },
  {
   "cell_type": "markdown",
   "metadata": {},
   "source": [
    "# over under or condition based"
   ]
  },
  {
   "cell_type": "code",
   "execution_count": 11,
   "metadata": {},
   "outputs": [
    {
     "name": "stdout",
     "output_type": "stream",
     "text": [
      "2\n"
     ]
    }
   ],
   "source": [
    "arr = [False, False, True, True, True, True]\n",
    "\n",
    "def over(arr):\n",
    "    N = len(arr)\n",
    "    L = 0\n",
    "    R = N - 1\n",
    "    \n",
    "    while L < R:\n",
    "        M = (L + R) // 2\n",
    "        \n",
    "        if arr[M]:\n",
    "            R = M\n",
    "        else:\n",
    "            L = M + 1\n",
    "    \n",
    "    \n",
    "    return L\n",
    "\n",
    "print(over(arr))"
   ]
  }
 ],
 "metadata": {
  "kernelspec": {
   "display_name": "Python 3",
   "language": "python",
   "name": "python3"
  },
  "language_info": {
   "codemirror_mode": {
    "name": "ipython",
    "version": 3
   },
   "file_extension": ".py",
   "mimetype": "text/x-python",
   "name": "python",
   "nbconvert_exporter": "python",
   "pygments_lexer": "ipython3",
   "version": "3.12.1"
  }
 },
 "nbformat": 4,
 "nbformat_minor": 2
}
